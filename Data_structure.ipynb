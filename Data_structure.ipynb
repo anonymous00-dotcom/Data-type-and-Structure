{
  "nbformat": 4,
  "nbformat_minor": 0,
  "metadata": {
    "colab": {
      "provenance": []
    },
    "kernelspec": {
      "name": "python3",
      "display_name": "Python 3"
    },
    "language_info": {
      "name": "python"
    }
  },
  "cells": [
    {
      "cell_type": "markdown",
      "source": [
        "#Data Structure Theory Questions\n"
      ],
      "metadata": {
        "id": "6XigRQ3-7HyN"
      }
    },
    {
      "cell_type": "markdown",
      "source": [
        "Data Structures and Types: Theory Questions\n",
        "1. What are data structures, and why are they important?\n",
        "A\n",
        "\n",
        "data structure is a specialized format for organizing, processing, retrieving, and storing data. They are essential because they provide efficient ways to handle large amounts of data, making it easier for programs to perform operations and for programmers to manage information effectively. The choice of data structure can significantly impact a program's performance.\n",
        "\n",
        "2. Explain the difference between mutable and immutable data types with examples.\n",
        "The core difference lies in whether an object's state can be changed after it's created.\n",
        "\n",
        "\n",
        "Mutable objects can be modified after creation. For example, you can add, remove, or change elements within a\n",
        "\n",
        "list.\n",
        "\n",
        "\n",
        "Immutable objects cannot be changed after creation. If you want to alter one, you must create a new object. Examples include\n",
        "\n",
        "strings and tuples.\n",
        "\n",
        "\n",
        "3. What are the main differences between lists and tuples in Python?\n",
        "The main differences are:\n",
        "\n",
        "\n",
        "Mutability: Lists are mutable, while tuples are immutable.\n",
        "\n",
        "Syntax: Lists use square brackets [], whereas tuples use parentheses ().\n",
        "\n",
        "\n",
        "Use Case: Lists are for collections that might change, and tuples are for fixed collections that should not change.\n",
        "\n",
        "4. Describe how dictionaries store data.\n",
        "Dictionaries in Python store data as\n",
        "\n",
        "key-value pairs. Each unique key is mapped to a specific value, allowing for quick retrieval of the value if you know the key.\n",
        "\n",
        "5. Why might you use a set instead of a list in Python?\n",
        "You would use a set over a list primarily for two reasons:\n",
        "\n",
        "\n",
        "Uniqueness: Sets automatically enforce that all elements are unique by not allowing duplicate values.\n",
        "\n",
        "\n",
        "\n",
        "Fast Membership Testing: Checking if an item is present in a set is significantly faster than checking for its presence in a list, especially for large collections.\n",
        "\n",
        "6. What is a string in Python, and how is it different from a list?\n",
        "A\n",
        "\n",
        "string is a sequence of characters used to represent text. The primary difference from a list is that strings are\n",
        "\n",
        "\n",
        "immutable, meaning their contents cannot be changed after creation, while lists are mutable.\n",
        "\n",
        "\n",
        "7. How do tuples ensure data integrity in Python?\n",
        "Tuples ensure data integrity because they are\n",
        "\n",
        "immutable. Once a tuple is created, its elements cannot be altered, added, or removed. This guarantees that the data within the tuple remains constant throughout the program's execution, preventing accidental modifications.\n",
        "\n",
        "\n",
        "8. What is a hash table, and how does it relate to dictionaries in Python?\n",
        "A\n",
        "\n",
        "hash table is a data structure that maps keys to values for highly efficient lookup. Python's\n",
        "\n",
        "dictionaries are implemented using hash tables, which is why they are so efficient at looking up, adding, and deleting elements.\n",
        "\n",
        "9. Can lists contain different data types in Python?\n",
        "Yes,\n",
        "\n",
        "lists in Python can contain elements of different data types within the same list. For example,\n",
        "\n",
        "[1, \"hello\", 3.14, True] is a valid list.\n",
        "\n",
        "10. Explain why strings are immutable in Python.\n",
        "Strings are immutable in Python for reasons of efficiency and safety. Since they cannot be changed, Python can optimize their storage and reuse them. This also allows them to be used as keys in dictionaries, which require immutable keys.\n",
        "\n",
        "11. What advantages do dictionaries offer over lists for certain tasks?\n",
        "For tasks involving lookups, dictionaries are far superior. To find an element in a list, you might have to scan the entire list. With a dictionary, you can access a value directly via its key, which is a much faster operation.\n",
        "\n",
        "12. Describe a scenario where using a tuple would be preferable over a list.\n",
        "A tuple would be preferable when you have a collection of items that should not change. For example, storing the coordinates of a point (x, y), the days of the week, or RGB color values. Using a tuple in these cases ensures that the data remains constant and protected from accidental changes.\n",
        "\n",
        "13. How do sets handle duplicate values in Python?\n",
        "Sets automatically\n",
        "\n",
        "ignore duplicate values. If you try to add an element to a set that already contains that element, the set simply remains unchanged.\n",
        "\n",
        "14. How does the \"in\" keyword work differently for lists and dictionaries?\n",
        "In a\n",
        "\n",
        "list, the in keyword checks if an element exists among the list's values.\n",
        "\n",
        "In a\n",
        "\n",
        "dictionary, the in keyword checks if an element exists among the dictionary's keys, not its values.\n",
        "\n",
        "15. Can you modify the elements of a tuple? Explain why or why not.\n",
        "No, you\n",
        "\n",
        "cannot modify the elements of a tuple. This is because tuples are an\n",
        "\n",
        "immutable data type. If you need to \"modify\" a tuple, you must create a new one with the desired changes.\n",
        "\n",
        "16. What is a nested dictionary, and give an example of its use case?\n",
        "A\n",
        "\n",
        "nested dictionary is a dictionary that contains other dictionaries as values. This is useful for representing more complex, hierarchical data structures. A common use case is storing information about multiple users, where each user is a key, and their information (like age and city) is stored in a nested dictionary.\n",
        "\n",
        "17. Describe the time complexity of accessing elements in a dictionary.\n",
        "The time complexity for accessing, inserting, and deleting elements in a dictionary is, on average,\n",
        "\n",
        "O(1), or constant time. This is because dictionaries are built on hash tables, which allow for direct lookups.\n",
        "\n",
        "18. In what situations are lists preferred over dictionaries?\n",
        "Lists are preferred when you need an\n",
        "\n",
        "ordered sequence of items and need to access elements by their numerical position (index). They are also ideal when the collection of items is expected to change frequently through additions or removals at various positions.\n",
        "\n",
        "19. Why are dictionaries considered unordered, and how does that affect data retrieval?\n",
        "Historically, Python dictionaries did not maintain the insertion order of elements. While modern Python versions (3.7+) do remember insertion order, the fundamental principle of a dictionary is that data is retrieved by its\n",
        "\n",
        "key, not by its position or index. You should always rely on the key for retrieval, not the element's order.\n",
        "\n",
        "20. Explain the difference between a list and a dictionary in terms of data retrieval.\n",
        "\n",
        "List: Data is retrieved by a numerical, zero-based index. For example,\n",
        "\n",
        "my_list[0] gets the first element.\n",
        "\n",
        "\n",
        "Dictionary: Data is retrieved by a unique key. For example,\n",
        "\n",
        "my_dict['name'] gets the value associated with the key 'name'.\n",
        "\n",
        "\n",
        "Sources\n"
      ],
      "metadata": {
        "id": "QtL_bN7O5qFs"
      }
    },
    {
      "cell_type": "markdown",
      "source": [
        "#Data Structure Practical Questions"
      ],
      "metadata": {
        "id": "QZjIy6DD6ol2"
      }
    },
    {
      "cell_type": "markdown",
      "source": [
        "Write a code to create a string with your name and print it."
      ],
      "metadata": {
        "id": "-jHx2-cF8SjN"
      }
    },
    {
      "cell_type": "code",
      "source": [
        "my_name = \"Suvrodip Das\"\n",
        "print(my_name)"
      ],
      "metadata": {
        "colab": {
          "base_uri": "https://localhost:8080/"
        },
        "id": "ItTA_yI18Ve9",
        "outputId": "f78d059a-1902-4b1b-cbff-5fa64aac4a21"
      },
      "execution_count": 3,
      "outputs": [
        {
          "output_type": "stream",
          "name": "stdout",
          "text": [
            "Suvrodip Das\n"
          ]
        }
      ]
    },
    {
      "cell_type": "markdown",
      "source": [
        "Write a code to find the length of the string \"Hello World\"."
      ],
      "metadata": {
        "id": "sYainynk8ZfF"
      }
    },
    {
      "cell_type": "code",
      "source": [
        "s = \"Hello World\"\n",
        "print(len(s))"
      ],
      "metadata": {
        "colab": {
          "base_uri": "https://localhost:8080/"
        },
        "id": "9ZsfrG2C8a69",
        "outputId": "6a27290c-6a23-4d61-bfed-9a495f846e95"
      },
      "execution_count": 4,
      "outputs": [
        {
          "output_type": "stream",
          "name": "stdout",
          "text": [
            "11\n"
          ]
        }
      ]
    },
    {
      "cell_type": "markdown",
      "source": [
        "Write a code to slice the first 3 characters from the string \"Python Programming\"."
      ],
      "metadata": {
        "id": "ya7tZDHb8gbe"
      }
    },
    {
      "cell_type": "code",
      "source": [
        "s = \"Python Programming\"\n",
        "print(s[:3])"
      ],
      "metadata": {
        "colab": {
          "base_uri": "https://localhost:8080/"
        },
        "id": "v61QDKXU8e_n",
        "outputId": "9a235537-7f06-4af1-8be9-202fb6fd19cb"
      },
      "execution_count": 5,
      "outputs": [
        {
          "output_type": "stream",
          "name": "stdout",
          "text": [
            "Pyt\n"
          ]
        }
      ]
    },
    {
      "cell_type": "markdown",
      "source": [
        "Write a code to convert the string \"hello\" to uppercase"
      ],
      "metadata": {
        "id": "PTaB-vMW8msF"
      }
    },
    {
      "cell_type": "code",
      "source": [
        "s = \"hello\"\n",
        "print(s.upper())"
      ],
      "metadata": {
        "colab": {
          "base_uri": "https://localhost:8080/"
        },
        "id": "NDCqaE198qjV",
        "outputId": "796b3cae-ce4b-4576-8aeb-23469e0059a8"
      },
      "execution_count": 6,
      "outputs": [
        {
          "output_type": "stream",
          "name": "stdout",
          "text": [
            "HELLO\n"
          ]
        }
      ]
    },
    {
      "cell_type": "markdown",
      "source": [
        "Write a code to replace the word \"apple\" with \"orange\" in the string \"I like apple\"."
      ],
      "metadata": {
        "id": "GCxd45G98sCF"
      }
    },
    {
      "cell_type": "code",
      "source": [
        "s = \"I like apple\"\n",
        "print(s.replace(\"apple\", \"orange\"))"
      ],
      "metadata": {
        "colab": {
          "base_uri": "https://localhost:8080/"
        },
        "id": "ShYeLvQx8ue9",
        "outputId": "18df919f-7ea8-46b8-fdb1-d3ab94abcfd4"
      },
      "execution_count": 7,
      "outputs": [
        {
          "output_type": "stream",
          "name": "stdout",
          "text": [
            "I like orange\n"
          ]
        }
      ]
    },
    {
      "cell_type": "markdown",
      "source": [
        "Write a code to create a list with numbers 1 to 5 and print it."
      ],
      "metadata": {
        "id": "UBP-PlLs81Jv"
      }
    },
    {
      "cell_type": "code",
      "source": [
        "my_list = [1, 2, 3, 4, 5]\n",
        "print(my_list)"
      ],
      "metadata": {
        "colab": {
          "base_uri": "https://localhost:8080/"
        },
        "id": "Iq8VuqO582r9",
        "outputId": "f19c857e-cefb-4e73-fca3-1b5adea1a85e"
      },
      "execution_count": 8,
      "outputs": [
        {
          "output_type": "stream",
          "name": "stdout",
          "text": [
            "[1, 2, 3, 4, 5]\n"
          ]
        }
      ]
    },
    {
      "cell_type": "markdown",
      "source": [
        "Write a code to append the number 10 to the list [1, 2, 3, 4]."
      ],
      "metadata": {
        "id": "xtjt4G5K83zF"
      }
    },
    {
      "cell_type": "code",
      "source": [
        "my_list = [1, 2, 3, 4]\n",
        "my_list.append(10)\n",
        "print(my_list)"
      ],
      "metadata": {
        "colab": {
          "base_uri": "https://localhost:8080/"
        },
        "id": "6qs6fypZ85aF",
        "outputId": "4d363137-001a-4af0-bc1f-b5ac64a70943"
      },
      "execution_count": 9,
      "outputs": [
        {
          "output_type": "stream",
          "name": "stdout",
          "text": [
            "[1, 2, 3, 4, 10]\n"
          ]
        }
      ]
    },
    {
      "cell_type": "markdown",
      "source": [
        "Write a code to remove the number 3 from the list [1, 2, 3, 4, 5]."
      ],
      "metadata": {
        "id": "NCvDrIlF8_Ft"
      }
    },
    {
      "cell_type": "code",
      "source": [
        "my_list = [1, 2, 3, 4, 5]\n",
        "my_list.remove(3)\n",
        "print(my_list)"
      ],
      "metadata": {
        "colab": {
          "base_uri": "https://localhost:8080/"
        },
        "id": "-vQ2F9mD9Bmd",
        "outputId": "556683f5-ecfe-407f-94f9-f657b81ffdd1"
      },
      "execution_count": 10,
      "outputs": [
        {
          "output_type": "stream",
          "name": "stdout",
          "text": [
            "[1, 2, 4, 5]\n"
          ]
        }
      ]
    },
    {
      "cell_type": "markdown",
      "source": [
        "Write a code to access the second element in the list ['a', 'b', 'c', 'd']."
      ],
      "metadata": {
        "id": "IRvOYAx-9FVl"
      }
    },
    {
      "cell_type": "code",
      "source": [
        "my_list = ['a', 'b', 'c', 'd']\n",
        "print(my_list[1])"
      ],
      "metadata": {
        "colab": {
          "base_uri": "https://localhost:8080/"
        },
        "id": "K7pjNHPZ9G4l",
        "outputId": "83978f87-510f-40a4-ebb1-db8f214edfab"
      },
      "execution_count": 11,
      "outputs": [
        {
          "output_type": "stream",
          "name": "stdout",
          "text": [
            "b\n"
          ]
        }
      ]
    },
    {
      "cell_type": "markdown",
      "source": [
        "Write a code to reverse the list [10, 20, 30, 40, 50]."
      ],
      "metadata": {
        "id": "q2xLwWHL9Jil"
      }
    },
    {
      "cell_type": "code",
      "source": [
        "my_list = [10, 20, 30, 40, 50]\n",
        "my_list.reverse()\n",
        "print(my_list)"
      ],
      "metadata": {
        "colab": {
          "base_uri": "https://localhost:8080/"
        },
        "id": "lXqTLlLj9LSE",
        "outputId": "cd2949f3-7dfe-4502-d69c-942004b2f248"
      },
      "execution_count": 12,
      "outputs": [
        {
          "output_type": "stream",
          "name": "stdout",
          "text": [
            "[50, 40, 30, 20, 10]\n"
          ]
        }
      ]
    },
    {
      "cell_type": "markdown",
      "source": [
        "Write a code to create a tuple with the elements 100, 200, 300 and print it."
      ],
      "metadata": {
        "id": "3f1Dkgbc9M2f"
      }
    },
    {
      "cell_type": "code",
      "source": [
        "my_tuple = (100, 200, 300)\n",
        "print(my_tuple)"
      ],
      "metadata": {
        "colab": {
          "base_uri": "https://localhost:8080/"
        },
        "id": "5IbsO1UU9Omd",
        "outputId": "c429ac7d-0fd2-4e79-af79-276ddd89488d"
      },
      "execution_count": 13,
      "outputs": [
        {
          "output_type": "stream",
          "name": "stdout",
          "text": [
            "(100, 200, 300)\n"
          ]
        }
      ]
    },
    {
      "cell_type": "markdown",
      "source": [
        "Write a code to access the second-to-last element of the tuple ('red', 'green', 'blue', 'yellow')"
      ],
      "metadata": {
        "id": "AccnZiQF9TTV"
      }
    },
    {
      "cell_type": "code",
      "source": [
        "my_tuple = ('red', 'green', 'blue', 'yellow')\n",
        "print(my_tuple[-2])"
      ],
      "metadata": {
        "colab": {
          "base_uri": "https://localhost:8080/"
        },
        "id": "8EYCOREE9Utf",
        "outputId": "974d8322-5325-423e-83e1-a76b150d1284"
      },
      "execution_count": 14,
      "outputs": [
        {
          "output_type": "stream",
          "name": "stdout",
          "text": [
            "blue\n"
          ]
        }
      ]
    },
    {
      "cell_type": "markdown",
      "source": [
        "Write a code to find the minimum number in the tuple (10, 20, 5, 15)."
      ],
      "metadata": {
        "id": "WxPpyctx9Vkl"
      }
    },
    {
      "cell_type": "code",
      "source": [
        "my_tuple = (10, 20, 5, 15)\n",
        "print(min(my_tuple))"
      ],
      "metadata": {
        "colab": {
          "base_uri": "https://localhost:8080/"
        },
        "id": "I1xJ8NEa9Wyl",
        "outputId": "4cb6d4ca-1253-44ff-a179-5657321abf50"
      },
      "execution_count": 15,
      "outputs": [
        {
          "output_type": "stream",
          "name": "stdout",
          "text": [
            "5\n"
          ]
        }
      ]
    },
    {
      "cell_type": "markdown",
      "source": [
        "Write a code to find the index of the element \"cat\" in the tuple ('dog', 'cat', 'rabbit')."
      ],
      "metadata": {
        "id": "mz2_U0GT9YY1"
      }
    },
    {
      "cell_type": "code",
      "source": [
        "my_tuple = ('dog', 'cat', 'rabbit')\n",
        "print(my_tuple.index('cat'))"
      ],
      "metadata": {
        "colab": {
          "base_uri": "https://localhost:8080/"
        },
        "id": "DonABuR49Zel",
        "outputId": "0c6df1b4-3bdd-4678-bd26-f5f301ecfbfc"
      },
      "execution_count": 16,
      "outputs": [
        {
          "output_type": "stream",
          "name": "stdout",
          "text": [
            "1\n"
          ]
        }
      ]
    },
    {
      "cell_type": "markdown",
      "source": [
        "Write a code to create a tuple containing three different fruits and check if \"kiwi\" is in it.\n",
        "\n"
      ],
      "metadata": {
        "id": "9ZKZEXNb9bTt"
      }
    },
    {
      "cell_type": "code",
      "source": [
        "fruits_tuple = ('apple', 'banana', 'grape')\n",
        "is_kiwi_present = 'kiwi' in fruits_tuple\n",
        "print(is_kiwi_present)"
      ],
      "metadata": {
        "colab": {
          "base_uri": "https://localhost:8080/"
        },
        "id": "K6YDE3Qo9cZF",
        "outputId": "829079be-2a57-429e-830c-59cd7509e2b7"
      },
      "execution_count": 17,
      "outputs": [
        {
          "output_type": "stream",
          "name": "stdout",
          "text": [
            "False\n"
          ]
        }
      ]
    },
    {
      "cell_type": "markdown",
      "source": [
        "Write a code to create a set with the elements 'a', 'b', 'c' and print it."
      ],
      "metadata": {
        "id": "YyBHj48q9d4l"
      }
    },
    {
      "cell_type": "code",
      "source": [
        "my_set = {'a', 'b', 'c'}\n",
        "print(my_set)"
      ],
      "metadata": {
        "colab": {
          "base_uri": "https://localhost:8080/"
        },
        "id": "xX38aViI9gLl",
        "outputId": "8b26cd00-3bd4-4285-8d70-d521e444ceee"
      },
      "execution_count": 18,
      "outputs": [
        {
          "output_type": "stream",
          "name": "stdout",
          "text": [
            "{'a', 'b', 'c'}\n"
          ]
        }
      ]
    },
    {
      "cell_type": "markdown",
      "source": [
        "Write a code to clear all elements from the set {1, 2, 3, 4, 5}."
      ],
      "metadata": {
        "id": "C-hMqlx99hI1"
      }
    },
    {
      "cell_type": "code",
      "source": [
        "my_set = {1, 2, 3, 4, 5}\n",
        "my_set.clear()\n",
        "print(my_set)"
      ],
      "metadata": {
        "colab": {
          "base_uri": "https://localhost:8080/"
        },
        "id": "0xCO5did9jRu",
        "outputId": "8701969a-b5a6-4f1a-efd5-ee7dd39c7839"
      },
      "execution_count": 19,
      "outputs": [
        {
          "output_type": "stream",
          "name": "stdout",
          "text": [
            "set()\n"
          ]
        }
      ]
    },
    {
      "cell_type": "markdown",
      "source": [
        "Write a code to remove the element 4 from the set {1, 2, 3, 4}."
      ],
      "metadata": {
        "id": "AXnARIx99kzW"
      }
    },
    {
      "cell_type": "code",
      "source": [
        "my_set = {1, 2, 3, 4}\n",
        "my_set.remove(4)\n",
        "print(my_set)"
      ],
      "metadata": {
        "colab": {
          "base_uri": "https://localhost:8080/"
        },
        "id": "qyrHt9hE9swx",
        "outputId": "8d9cf8d3-9234-40dd-bbbe-67e3d57c84ec"
      },
      "execution_count": 20,
      "outputs": [
        {
          "output_type": "stream",
          "name": "stdout",
          "text": [
            "{1, 2, 3}\n"
          ]
        }
      ]
    },
    {
      "cell_type": "markdown",
      "source": [
        "Write a code to find the union of two sets {1, 2, 3} and {3, 4, 5}"
      ],
      "metadata": {
        "id": "jpDJ5x9F9uYu"
      }
    },
    {
      "cell_type": "code",
      "source": [
        "set1 = {1, 2, 3}\n",
        "set2 = {3, 4, 5}\n",
        "union_set = set1.union(set2)\n",
        "print(union_set)"
      ],
      "metadata": {
        "colab": {
          "base_uri": "https://localhost:8080/"
        },
        "id": "np3uGXsa9xc3",
        "outputId": "b0f6d014-9008-4a32-dc86-4466a97c2749"
      },
      "execution_count": 21,
      "outputs": [
        {
          "output_type": "stream",
          "name": "stdout",
          "text": [
            "{1, 2, 3, 4, 5}\n"
          ]
        }
      ]
    },
    {
      "cell_type": "markdown",
      "source": [
        "Write a code to find the intersection of two sets {1, 2, 3} and {2, 3, 4}."
      ],
      "metadata": {
        "id": "ehIbEzrA9zFt"
      }
    },
    {
      "cell_type": "code",
      "source": [
        "set1 = {1, 2, 3}\n",
        "set2 = {2, 3, 4}\n",
        "intersection_set = set1.intersection(set2)\n",
        "print(intersection_set)"
      ],
      "metadata": {
        "colab": {
          "base_uri": "https://localhost:8080/"
        },
        "id": "0WV1SLtz90bs",
        "outputId": "261f0cc2-b29e-43dc-f833-f9059d0bde6c"
      },
      "execution_count": 22,
      "outputs": [
        {
          "output_type": "stream",
          "name": "stdout",
          "text": [
            "{2, 3}\n"
          ]
        }
      ]
    },
    {
      "cell_type": "markdown",
      "source": [
        "Write a code to create a dictionary with the keys \"name\", \"age\", and \"city\", and print it."
      ],
      "metadata": {
        "id": "ceNnZWLH92Ut"
      }
    },
    {
      "cell_type": "code",
      "source": [
        "my_dict = {\n",
        "    \"name\": \"Alex\",\n",
        "    \"age\": 28,\n",
        "    \"city\": \"London\"\n",
        "}\n",
        "print(my_dict)"
      ],
      "metadata": {
        "colab": {
          "base_uri": "https://localhost:8080/"
        },
        "id": "AHuVXNVm94qF",
        "outputId": "db3384b9-4df6-4329-8a55-9a9f0ff96ce1"
      },
      "execution_count": 23,
      "outputs": [
        {
          "output_type": "stream",
          "name": "stdout",
          "text": [
            "{'name': 'Alex', 'age': 28, 'city': 'London'}\n"
          ]
        }
      ]
    },
    {
      "cell_type": "markdown",
      "source": [
        "Write a code to add a new key-value pair \"country\": \"USA\" to the dictionary {'name': 'John', 'age': 25}."
      ],
      "metadata": {
        "id": "9h5huJDa96wV"
      }
    },
    {
      "cell_type": "code",
      "source": [
        "my_dict = {'name': 'John', 'age': 25}\n",
        "my_dict['country'] = 'USA'\n",
        "print(my_dict)"
      ],
      "metadata": {
        "colab": {
          "base_uri": "https://localhost:8080/"
        },
        "id": "Q40vf6E5974N",
        "outputId": "c5d50cce-27b5-45af-8fda-946b99e970aa"
      },
      "execution_count": 24,
      "outputs": [
        {
          "output_type": "stream",
          "name": "stdout",
          "text": [
            "{'name': 'John', 'age': 25, 'country': 'USA'}\n"
          ]
        }
      ]
    },
    {
      "cell_type": "markdown",
      "source": [
        "Write a code to access the value associated with the key \"name\" in the dictionary {'name': 'Alice', 'age': 30}."
      ],
      "metadata": {
        "id": "9p3kwBwP9-_l"
      }
    },
    {
      "cell_type": "code",
      "source": [
        "my_dict = {'name': 'Alice', 'age': 30}\n",
        "print(my_dict['name'])"
      ],
      "metadata": {
        "colab": {
          "base_uri": "https://localhost:8080/"
        },
        "id": "oBcwWoPq9_1d",
        "outputId": "f3c1aba2-63e5-4a31-e067-8cb68c289cf7"
      },
      "execution_count": 25,
      "outputs": [
        {
          "output_type": "stream",
          "name": "stdout",
          "text": [
            "Alice\n"
          ]
        }
      ]
    },
    {
      "cell_type": "markdown",
      "source": [
        "Write a code to remove the key \"age\" from the dictionary {'name': 'Bob', 'age': 22, 'city': 'New York'}."
      ],
      "metadata": {
        "id": "Rh3n2NKQ-Bj9"
      }
    },
    {
      "cell_type": "code",
      "source": [
        "my_dict = {'name': 'Bob', 'age': 22, 'city': 'New York'}\n",
        "del my_dict['age']\n",
        "print(my_dict)"
      ],
      "metadata": {
        "colab": {
          "base_uri": "https://localhost:8080/"
        },
        "id": "kLPD0Qky-DuW",
        "outputId": "837a8e48-b92f-4af6-a7f6-6915ddde3fcd"
      },
      "execution_count": 26,
      "outputs": [
        {
          "output_type": "stream",
          "name": "stdout",
          "text": [
            "{'name': 'Bob', 'city': 'New York'}\n"
          ]
        }
      ]
    },
    {
      "cell_type": "markdown",
      "source": [
        "Write a code to check if the key \"city\" exists in the dictionary {'name': 'Alice', 'city': 'Paris'}."
      ],
      "metadata": {
        "id": "ZaxQGCef-GCt"
      }
    },
    {
      "cell_type": "code",
      "source": [
        "my_dict = {'name': 'Alice', 'city': 'Paris'}\n",
        "key_exists = 'city' in my_dict\n",
        "print(key_exists)"
      ],
      "metadata": {
        "colab": {
          "base_uri": "https://localhost:8080/"
        },
        "id": "_CrMYXx2-Gk0",
        "outputId": "6771ce48-9490-4f74-d267-f2b8f6764db4"
      },
      "execution_count": 27,
      "outputs": [
        {
          "output_type": "stream",
          "name": "stdout",
          "text": [
            "True\n"
          ]
        }
      ]
    },
    {
      "cell_type": "markdown",
      "source": [
        "Write a code to create a list, a tuple, and a dictionary, and print them all.\n",
        "\n"
      ],
      "metadata": {
        "id": "pKeEkwH5-IYN"
      }
    },
    {
      "cell_type": "code",
      "source": [
        "my_list = [1, 'a', True]\n",
        "my_tuple = (2, 'b', False)\n",
        "my_dict = {\"key1\": 3, \"key2\": 'c'}\n",
        "\n",
        "print(\"List:\", my_list)\n",
        "print(\"Tuple:\", my_tuple)\n",
        "print(\"Dictionary:\", my_dict)"
      ],
      "metadata": {
        "colab": {
          "base_uri": "https://localhost:8080/"
        },
        "id": "wtmtoVS--Jj5",
        "outputId": "8f7d131c-c54f-4598-aed3-2138cd00ce0e"
      },
      "execution_count": 28,
      "outputs": [
        {
          "output_type": "stream",
          "name": "stdout",
          "text": [
            "List: [1, 'a', True]\n",
            "Tuple: (2, 'b', False)\n",
            "Dictionary: {'key1': 3, 'key2': 'c'}\n"
          ]
        }
      ]
    },
    {
      "cell_type": "markdown",
      "source": [
        "Write a code to create a list of 5 random numbers between 1 and 100, sort it in ascending order, and print the result"
      ],
      "metadata": {
        "id": "YY7ijWru-1kW"
      }
    },
    {
      "cell_type": "code",
      "source": [
        "import random\n",
        "\n",
        "random_numbers = [random.randint(1, 100) for _ in range(5)]\n",
        "random_numbers.sort()\n",
        "print(random_numbers)"
      ],
      "metadata": {
        "colab": {
          "base_uri": "https://localhost:8080/"
        },
        "id": "bnfU8gx4--Md",
        "outputId": "27cd6e17-a08b-46ef-afeb-f816408b4901"
      },
      "execution_count": 29,
      "outputs": [
        {
          "output_type": "stream",
          "name": "stdout",
          "text": [
            "[26, 27, 47, 54, 90]\n"
          ]
        }
      ]
    },
    {
      "cell_type": "markdown",
      "source": [
        "Write a code to create a list with strings and print the element at the third index"
      ],
      "metadata": {
        "id": "7bGdweXl_Aj1"
      }
    },
    {
      "cell_type": "code",
      "source": [
        "string_list = [\"apple\", \"banana\", \"cherry\", \"date\", \"elderberry\"]\n",
        "print(string_list[3])"
      ],
      "metadata": {
        "colab": {
          "base_uri": "https://localhost:8080/"
        },
        "id": "gDuSBkss_Cyf",
        "outputId": "6ce1e61e-7ea8-41f9-f6e7-fa0616d6967c"
      },
      "execution_count": 30,
      "outputs": [
        {
          "output_type": "stream",
          "name": "stdout",
          "text": [
            "date\n"
          ]
        }
      ]
    },
    {
      "cell_type": "markdown",
      "source": [
        "Write a code to combine two dictionaries into one and print the result.\n",
        "\n"
      ],
      "metadata": {
        "id": "aUTKwnm__JcF"
      }
    },
    {
      "cell_type": "code",
      "source": [
        "dict1 = {'a': 1, 'b': 2}\n",
        "dict2 = {'c': 3, 'd': 4}\n",
        "\n",
        "combined_dict = dict1 | dict2\n",
        "\n",
        "print(combined_dict)"
      ],
      "metadata": {
        "colab": {
          "base_uri": "https://localhost:8080/"
        },
        "id": "0vxVdBSU_Lot",
        "outputId": "9fa09309-54d4-4c86-b6f6-e14e1578556e"
      },
      "execution_count": 31,
      "outputs": [
        {
          "output_type": "stream",
          "name": "stdout",
          "text": [
            "{'a': 1, 'b': 2, 'c': 3, 'd': 4}\n"
          ]
        }
      ]
    },
    {
      "cell_type": "markdown",
      "source": [
        "Write a code to convert a list of strings into a set.\n",
        "\n"
      ],
      "metadata": {
        "id": "wl-52Y5B_NUu"
      }
    },
    {
      "cell_type": "code",
      "source": [
        "string_list = [\"apple\", \"banana\", \"apple\", \"cherry\", \"banana\"]\n",
        "string_set = set(string_list)\n",
        "print(string_set)"
      ],
      "metadata": {
        "colab": {
          "base_uri": "https://localhost:8080/"
        },
        "id": "qnrPHzco_OJl",
        "outputId": "04d9d779-5f8b-445d-ea3c-52b9ecf9bdf1"
      },
      "execution_count": 32,
      "outputs": [
        {
          "output_type": "stream",
          "name": "stdout",
          "text": [
            "{'banana', 'apple', 'cherry'}\n"
          ]
        }
      ]
    }
  ]
}